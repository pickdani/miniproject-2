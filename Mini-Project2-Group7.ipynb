{
 "cells": [
  {
   "cell_type": "markdown",
   "metadata": {},
   "source": [
    "# Boston Tourism Ecometric\n",
    "<hr>\n",
    "\n",
    "### Group 7\n",
    "\n",
    "**Meng Forrest,\n",
    "Michiels Garrett, \n",
    "Mitchell Timothy, \n",
    "Peter Gabriel,\n",
    "Pickett Daniel**\n",
    "\n",
    "\n",
    "## Introduction\n",
    "\n",
    "For the 2nd mini project, our group created a tourism ecometric using a weighted sum of data from three of the provided data sets: google places, airbnb, and yelp reviews. Tourism is composed of people visiting, staying, and experiencing places that are new to them. Using these three data sets we can measure the tourism in a certain area. The googe places data set allows us to identify points of interest in an area that tourists are likely to visit and be around such as acquariums, museums, and art gallerys. The yelp review dataset allows us to count the number of restaurants listed on yelp in a certain area. The Airbnb dataset allows for a measure of mostly temporary short term housing in an area. By combining these metrics into one ecometric for tourism, we have a much better measure of all of the tourist related activity than could be measured using any single one."
   ]
  },
  {
   "cell_type": "markdown",
   "metadata": {},
   "source": [
    "## 1. Read in Data\n",
    "\n",
    "We first import packages we will be using and read in the provided CSV data for google places, airbnb listings, and yelp restaurants. We use the csv's provided as in from the assignment. They are not modified at all before reading them in. Additionally, we read in a geojson shape file to create a mapping for our ecometric."
   ]
  },
  {
   "cell_type": "code",
   "execution_count": 262,
   "metadata": {},
   "outputs": [],
   "source": [
    "from IPython.display import display\n",
    "from sklearn.preprocessing import MinMaxScaler\n",
    "\n",
    "import pandas as pd\n",
    "import matplotlib.pyplot as plt\n",
    "import geopandas as gpd"
   ]
  },
  {
   "cell_type": "code",
   "execution_count": 263,
   "metadata": {},
   "outputs": [],
   "source": [
    "# due to some columns with multiple types, low_memory=False avoids python showing an error\n",
    "places_df = pd.read_csv('data/GooglePlaces.csv', low_memory=False)\n",
    "airbnb_df = pd.read_csv('data/AIRBNB_Listings.csv', low_memory=False)\n",
    "yelp_df = pd.read_csv('data/YELP_Restaurants.csv', low_memory=False)\n",
    "shape_df = gpd.read_file(\"data/Census_2010_Tracts.geojson\")"
   ]
  },
  {
   "cell_type": "markdown",
   "metadata": {},
   "source": [
    "## 2 / 3. Identifying and Aggregating Columns of Interest"
   ]
  },
  {
   "cell_type": "markdown",
   "metadata": {},
   "source": [
    "### Columns of interest - Places\n",
    "\n",
    "The places dataset 'Tag_1' column gives a description of each place. To identify tourism we will filter and only count specific places which we have identified as relating to tourism. This includes art galleries, museums and more. We will avoid banks, doctors, and other non tourist related buildings. When someone visits a new place they are highly unlikely to visit these or if they do it is much less common."
   ]
  },
  {
   "cell_type": "code",
   "execution_count": 264,
   "metadata": {},
   "outputs": [
    {
     "data": {
      "text/plain": [
       "Index(['GIS_ID', 'place_id', 'name', 'Tag_1', 'Tag_2', 'Tag_3', 'Tag_4',\n",
       "       'Tag_5', 'Tag_6', 'Tag_7', 'Tag_8', 'Tag_9', 'Tag_10', 'vicinity', 'X',\n",
       "       'Y', 'Blk_ID_10', 'CT_ID_10'],\n",
       "      dtype='object')"
      ]
     },
     "execution_count": 264,
     "metadata": {},
     "output_type": "execute_result"
    }
   ],
   "source": [
    "places_df.columns"
   ]
  },
  {
   "cell_type": "markdown",
   "metadata": {},
   "source": [
    "To decide which locations available can be used for tourism, we display a list of all the possible locations."
   ]
  },
  {
   "cell_type": "code",
   "execution_count": 265,
   "metadata": {},
   "outputs": [
    {
     "data": {
      "text/plain": [
       "array(['restaurant', 'doctor', 'synagogue', 'general_contractor',\n",
       "       'clothing_store', 'health', 'bakery', 'bank', 'gym', 'bar',\n",
       "       'beauty_salon', 'insurance_agency', 'atm', 'physiotherapist',\n",
       "       'pharmacy', 'grocery_or_supermarket', 'finance', 'shoe_store',\n",
       "       'local_government_office', 'moving_company', 'car_dealer', 'spa',\n",
       "       'cafe', 'hair_care', 'store', 'fire_station', 'dentist',\n",
       "       'accounting', 'lawyer', 'real_estate_agency', 'home_goods_store',\n",
       "       'laundry', 'convenience_store', 'church', 'movie_theater',\n",
       "       'place_of_worship', 'parking', 'liquor_store', 'furniture_store',\n",
       "       'hospital', 'travel_agency', 'embassy', 'bus_station', 'park',\n",
       "       'courthouse', 'hardware_store', 'art_gallery', 'car_repair',\n",
       "       'meal_delivery', 'car_rental', 'jewelry_store', 'electrician',\n",
       "       'storage', 'bicycle_store', 'plumber', 'veterinary_care',\n",
       "       'lodging', 'electronics_store', 'library', 'museum', 'painter',\n",
       "       'food', 'night_club', 'roofing_contractor', 'florist', 'school',\n",
       "       'university', 'shopping_mall', nan, 'pet_store', 'book_store',\n",
       "       'cemetery', 'funeral_home', 'police', 'post_office',\n",
       "       'meal_takeaway', 'premise', 'stadium', 'car_wash', 'train_station',\n",
       "       'gas_station', 'hindu_temple', 'department_store', 'airport',\n",
       "       'transit_station', 'bowling_alley', 'subway_station', 'rv_park',\n",
       "       'amusement_park', 'movie_rental', 'mosque', 'locksmith',\n",
       "       'city_hall', 'campground', 'aquarium', 'neighborhood', 'zoo',\n",
       "       'light_rail_station'], dtype=object)"
      ]
     },
     "execution_count": 265,
     "metadata": {},
     "output_type": "execute_result"
    }
   ],
   "source": [
    "places_df['Tag_1'].unique()"
   ]
  },
  {
   "cell_type": "markdown",
   "metadata": {},
   "source": [
    "Then we create a list of a subset of these places which relate to tourism.\n",
    "\n",
    "- park\n",
    "- acquarium\n",
    "- museum\n",
    "- bowling alley\n",
    "- zoo\n",
    "- embassy\n",
    "- night club\n",
    "- art gallery\n",
    "- car rental"
   ]
  },
  {
   "cell_type": "code",
   "execution_count": 266,
   "metadata": {},
   "outputs": [],
   "source": [
    "poi = ['park', 'aquarium', 'museum', 'bowling_alley','stadium', 'zoo', 'embassy', 'night_club', 'art_gallery', 'car_rental']"
   ]
  },
  {
   "cell_type": "markdown",
   "metadata": {},
   "source": [
    "Finally for googe places, we create a dictionary which maps each census tract id to a count of the number of tourism related places found in that tract. All the census tracts start at 0. For each row, if the rows 'Tag_1' column is within our list of places of interest, we increment the count of that id, otherwise we go to the next row. Then we turn the dictionary into a series to be used to create the ecometric"
   ]
  },
  {
   "cell_type": "code",
   "execution_count": 267,
   "metadata": {},
   "outputs": [
    {
     "data": {
      "text/plain": [
       "CT_ID_10\n",
       "25025000802    13\n",
       "25025040801     5\n",
       "25025071101     2\n",
       "25025060600    19\n",
       "25025040600     2\n",
       "               ..\n",
       "25025060200     0\n",
       "25025980700     0\n",
       "25025981000     2\n",
       "25025061101     0\n",
       "25025981502     0\n",
       "Name: counts, Length: 181, dtype: int64"
      ]
     },
     "execution_count": 267,
     "metadata": {},
     "output_type": "execute_result"
    }
   ],
   "source": [
    "places_counts = {}\n",
    "\n",
    "# work from a copy of the dataframe to not modify the source\n",
    "temp_places_df = places_df.copy()\n",
    "temp_places_df = temp_places_df.dropna(subset=['CT_ID_10'])\n",
    "temp_places_df = temp_places_df.reset_index()\n",
    "\n",
    "# iterate from 0 to number of rows in places data\n",
    "for r in range(temp_places_df.shape[0]):\n",
    "    \n",
    "    # try catch will help with nan and other invalid columns, in this case we pass\n",
    "    try:\n",
    "        tract = temp_places_df.at[r, 'CT_ID_10']\n",
    "\n",
    "        # adjust improperly formatted tracts which end in .0\n",
    "        if str(tract).endswith('.0'):\n",
    "            # convert to string remove the last two characters\n",
    "            tract = str(tract)[:-2]\n",
    "            # convert back to int\n",
    "            tract = int(tract)\n",
    "\n",
    "        tract = int(tract)\n",
    "\n",
    "        if tract not in places_counts:\n",
    "            places_counts[tract] = 0\n",
    "\n",
    "        # row is place of tourism\n",
    "        if temp_places_df.at[r, 'Tag_1'] in poi:    \n",
    "            places_counts[tract] += 1\n",
    "    except:\n",
    "        pass\n",
    "\n",
    "places_count = pd.Series(places_counts)\n",
    "places_count = places_count.rename(\"counts\")\n",
    "places_count = places_count.rename_axis(\"CT_ID_10\")\n",
    "places_count"
   ]
  },
  {
   "cell_type": "markdown",
   "metadata": {},
   "source": [
    "### Columns of interest - Airbnb"
   ]
  },
  {
   "cell_type": "markdown",
   "metadata": {},
   "source": [
    "For airbnb data, we first acknowledged that because we do not have a complete list of all airbnb listings, but only a subset, we must be careful with how we use the data. Therefore we started with simply counting the number of bed spaces in each tract. We are making the assumption that, despite not having every listing, tracts more popular with tourism will still have a net higher count of bed spaces than much less popular areas."
   ]
  },
  {
   "cell_type": "code",
   "execution_count": 268,
   "metadata": {},
   "outputs": [
    {
     "data": {
      "text/plain": [
       "Index(['name', 'summary', 'space', 'description', 'neighborhood_overview',\n",
       "       'notes', 'transit', 'access', 'interaction', 'house_rules', 'id',\n",
       "       'Year', 'Month', 'listing_url', 'picture_url', 'property_type',\n",
       "       'room_type', 'accommodates', 'bathrooms', 'bedrooms', 'beds',\n",
       "       'bed_type', 'amenities', 'square_feet', 'price', 'weekly_price',\n",
       "       'monthly_price', 'security_deposit', 'cleaning_fee', 'guests_included',\n",
       "       'extra_people', 'minimum_nights', 'maximum_nights', 'calendar_updated',\n",
       "       'availability_30', 'availability_60', 'availability_90',\n",
       "       'availability_365', 'calendar_last_scraped', 'requires_license',\n",
       "       'license', 'instant_bookable', 'cancellation_policy',\n",
       "       'require_guest_profile_picture', 'require_guest_phone_verification',\n",
       "       'is_business_travel_ready', 'host_id', 'host_url', 'host_name',\n",
       "       'host_since', 'host_location', 'host_about', 'host_response_time',\n",
       "       'host_response_rate', 'host_acceptance_rate', 'host_is_superhost',\n",
       "       'host_thumbnail_url', 'host_picture_url', 'host_total_listings_count',\n",
       "       'host_verifications', 'host_has_profile_pic', 'host_identity_verified',\n",
       "       'calculated_host_listings_count',\n",
       "       'calculated_host_listings_count_entire_homes',\n",
       "       'calculated_host_listings_count_private_rooms',\n",
       "       'calculated_host_listings_count_shared_rooms', 'number_of_reviews',\n",
       "       'number_of_reviews_ltm', 'reviews_per_month', 'first_review',\n",
       "       'last_review', 'review_scores_rating', 'review_scores_accuracy',\n",
       "       'review_scores_cleanliness', 'review_scores_checkin',\n",
       "       'review_scores_communication', 'review_scores_location',\n",
       "       'review_scores_value', 'latitude', 'longitude', 'street',\n",
       "       'is_location_exact', 'airbnb_region', 'Blk_ID_10', 'CT_ID_10', 'TOWN',\n",
       "       'COUNTY'],\n",
       "      dtype='object')"
      ]
     },
     "execution_count": 268,
     "metadata": {},
     "output_type": "execute_result"
    }
   ],
   "source": [
    "airbnb_df.columns"
   ]
  },
  {
   "cell_type": "markdown",
   "metadata": {},
   "source": [
    "We create a series grouped by each tract where the value associated with that tract is the count of airbnbs."
   ]
  },
  {
   "cell_type": "code",
   "execution_count": 269,
   "metadata": {},
   "outputs": [
    {
     "data": {
      "text/plain": [
       "CT_ID_10\n",
       "25017342400     14.0\n",
       "25017350103      2.0\n",
       "25017350104      1.0\n",
       "25017350400      7.0\n",
       "25017350500     16.0\n",
       "               ...  \n",
       "25025981202     83.0\n",
       "25025981300     71.0\n",
       "25025981501    323.0\n",
       "25025981700     30.0\n",
       "25025981800    931.0\n",
       "Name: counts, Length: 249, dtype: float64"
      ]
     },
     "execution_count": 269,
     "metadata": {},
     "output_type": "execute_result"
    }
   ],
   "source": [
    "bnb_count = airbnb_df.groupby(by=['CT_ID_10']).sum()['beds']\n",
    "bnb_count = bnb_count.rename(\"counts\")\n",
    "bnb_count"
   ]
  },
  {
   "cell_type": "markdown",
   "metadata": {},
   "source": [
    "### Columns of interest - Yelp\n",
    "\n",
    "For yelp we count the number of restuarants in each tract. We use this to get a general idea of how many options would be availble to a person visting a certain location. An area with a lot of resaurants could be more popular for tourism. We haven't distinguished based on price because both inexpensive and expensive restaurants could be popular depending on the type of tourist."
   ]
  },
  {
   "cell_type": "code",
   "execution_count": 270,
   "metadata": {},
   "outputs": [
    {
     "data": {
      "text/plain": [
       "Index(['restaurant_name', 'restaurant_ID', 'restaurant_address',\n",
       "       'restaurant_tag', 'rating', 'price', 'review_number', 'unique_reviewer',\n",
       "       'reviews_Jan_19', 'reviews_Feb_19', 'reviews_Mar_19', 'reviews_Apr_19',\n",
       "       'reviews_May_19', 'reviews_Jun_19', 'reviews_Jul_19', 'reviews_Aug_19',\n",
       "       'reviews_Jan_20', 'reviews_Feb_20', 'reviews_Mar_20', 'reviews_Apr_20',\n",
       "       'reviews_May_20', 'reviews_Jun_20', 'reviews_Jul_20', 'reviews_Aug_20',\n",
       "       'restaurant_neighborhood', 'GIS_ID', 'CT_ID_10'],\n",
       "      dtype='object')"
      ]
     },
     "execution_count": 270,
     "metadata": {},
     "output_type": "execute_result"
    }
   ],
   "source": [
    "yelp_df.columns"
   ]
  },
  {
   "cell_type": "markdown",
   "metadata": {},
   "source": [
    "We create a series grouped by each tract where the value associated with that tract is the count of restaurants."
   ]
  },
  {
   "cell_type": "code",
   "execution_count": 271,
   "metadata": {},
   "outputs": [
    {
     "data": {
      "text/plain": [
       "CT_ID_10\n",
       "25025000100    21\n",
       "25025000201    12\n",
       "25025000202     8\n",
       "25025000301     7\n",
       "25025000302     5\n",
       "               ..\n",
       "25025981300    60\n",
       "25025981501     1\n",
       "25025981600     1\n",
       "25025981700     1\n",
       "25025990101     1\n",
       "Name: counts, Length: 169, dtype: int64"
      ]
     },
     "execution_count": 271,
     "metadata": {},
     "output_type": "execute_result"
    }
   ],
   "source": [
    "res_count = yelp_df.groupby(by=['CT_ID_10']).count()['restaurant_name']\n",
    "res_count = res_count.rename(\"counts\")\n",
    "res_count"
   ]
  },
  {
   "cell_type": "markdown",
   "metadata": {},
   "source": [
    "## 3. Joining for Ecometric\n",
    "\n",
    "With three series representing housing, restaurants, and tourist locations, we can now join these into creating our tourism ecometric.\n",
    "\n",
    "All of the series are converted into a dataframe and then joined on the 'CT_ID_10' column using an inner join. This means to construct our final ecometric we will only includes tracts that have data from all three of our series. Although we may miss out on a few tracts, all of the tracts that we do create an ecometric for we know are backed by our data."
   ]
  },
  {
   "cell_type": "code",
   "execution_count": 272,
   "metadata": {},
   "outputs": [],
   "source": [
    "cols = {'airbnb':bnb_count}\n",
    "bnb_df = pd.DataFrame(cols)\n",
    "\n",
    "cols1 = {'places':places_count}\n",
    "places_df = pd.DataFrame(cols1)\n",
    "\n",
    "cols2 = {'rest':res_count}\n",
    "rest_df = pd.DataFrame(cols2)"
   ]
  },
  {
   "cell_type": "code",
   "execution_count": 273,
   "metadata": {},
   "outputs": [
    {
     "data": {
      "text/html": [
       "<div>\n",
       "<style scoped>\n",
       "    .dataframe tbody tr th:only-of-type {\n",
       "        vertical-align: middle;\n",
       "    }\n",
       "\n",
       "    .dataframe tbody tr th {\n",
       "        vertical-align: top;\n",
       "    }\n",
       "\n",
       "    .dataframe thead th {\n",
       "        text-align: right;\n",
       "    }\n",
       "</style>\n",
       "<table border=\"1\" class=\"dataframe\">\n",
       "  <thead>\n",
       "    <tr style=\"text-align: right;\">\n",
       "      <th></th>\n",
       "      <th>airbnb</th>\n",
       "      <th>places</th>\n",
       "      <th>rest</th>\n",
       "    </tr>\n",
       "    <tr>\n",
       "      <th>CT_ID_10</th>\n",
       "      <th></th>\n",
       "      <th></th>\n",
       "      <th></th>\n",
       "    </tr>\n",
       "  </thead>\n",
       "  <tbody>\n",
       "    <tr>\n",
       "      <th>25025000100</th>\n",
       "      <td>1464.0</td>\n",
       "      <td>8</td>\n",
       "      <td>21</td>\n",
       "    </tr>\n",
       "    <tr>\n",
       "      <th>25025000201</th>\n",
       "      <td>452.0</td>\n",
       "      <td>0</td>\n",
       "      <td>12</td>\n",
       "    </tr>\n",
       "    <tr>\n",
       "      <th>25025000202</th>\n",
       "      <td>155.0</td>\n",
       "      <td>0</td>\n",
       "      <td>8</td>\n",
       "    </tr>\n",
       "    <tr>\n",
       "      <th>25025000301</th>\n",
       "      <td>413.0</td>\n",
       "      <td>0</td>\n",
       "      <td>7</td>\n",
       "    </tr>\n",
       "    <tr>\n",
       "      <th>25025000302</th>\n",
       "      <td>632.0</td>\n",
       "      <td>0</td>\n",
       "      <td>5</td>\n",
       "    </tr>\n",
       "  </tbody>\n",
       "</table>\n",
       "</div>"
      ],
      "text/plain": [
       "             airbnb  places  rest\n",
       "CT_ID_10                         \n",
       "25025000100  1464.0       8    21\n",
       "25025000201   452.0       0    12\n",
       "25025000202   155.0       0     8\n",
       "25025000301   413.0       0     7\n",
       "25025000302   632.0       0     5"
      ]
     },
     "execution_count": 273,
     "metadata": {},
     "output_type": "execute_result"
    }
   ],
   "source": [
    "bnb_places = bnb_df.join(places_df, how='inner', sort=False)\n",
    "combined_df = bnb_places.join(rest_df, how='inner', sort=False)\n",
    "combined_df.head()"
   ]
  },
  {
   "cell_type": "markdown",
   "metadata": {},
   "source": [
    "Since each of the three seperate measurements have different units and scales, we normalize the data before creating our ecometric. This is because we don't want 323 bed spaces in a tract to count 323x more towards the ecometric than 1 restaurant. By scaling each of the columns the same they can be merged together to create our final metric. MinMaxScaler specifically ensures that all the values within a specific column are between 0-1. Therefore, when we sum the three values for our ecometric we will get a final tourism metric for each tract between 0 and 3."
   ]
  },
  {
   "cell_type": "code",
   "execution_count": 274,
   "metadata": {},
   "outputs": [
    {
     "data": {
      "text/html": [
       "<div>\n",
       "<style scoped>\n",
       "    .dataframe tbody tr th:only-of-type {\n",
       "        vertical-align: middle;\n",
       "    }\n",
       "\n",
       "    .dataframe tbody tr th {\n",
       "        vertical-align: top;\n",
       "    }\n",
       "\n",
       "    .dataframe thead th {\n",
       "        text-align: right;\n",
       "    }\n",
       "</style>\n",
       "<table border=\"1\" class=\"dataframe\">\n",
       "  <thead>\n",
       "    <tr style=\"text-align: right;\">\n",
       "      <th></th>\n",
       "      <th>airbnb</th>\n",
       "      <th>places</th>\n",
       "      <th>rest</th>\n",
       "    </tr>\n",
       "    <tr>\n",
       "      <th>CT_ID_10</th>\n",
       "      <th></th>\n",
       "      <th></th>\n",
       "      <th></th>\n",
       "    </tr>\n",
       "  </thead>\n",
       "  <tbody>\n",
       "    <tr>\n",
       "      <th>25025000100</th>\n",
       "      <td>0.235123</td>\n",
       "      <td>0.133333</td>\n",
       "      <td>0.077519</td>\n",
       "    </tr>\n",
       "    <tr>\n",
       "      <th>25025000201</th>\n",
       "      <td>0.071924</td>\n",
       "      <td>0.000000</td>\n",
       "      <td>0.042636</td>\n",
       "    </tr>\n",
       "    <tr>\n",
       "      <th>25025000202</th>\n",
       "      <td>0.024028</td>\n",
       "      <td>0.000000</td>\n",
       "      <td>0.027132</td>\n",
       "    </tr>\n",
       "    <tr>\n",
       "      <th>25025000301</th>\n",
       "      <td>0.065635</td>\n",
       "      <td>0.000000</td>\n",
       "      <td>0.023256</td>\n",
       "    </tr>\n",
       "    <tr>\n",
       "      <th>25025000302</th>\n",
       "      <td>0.100951</td>\n",
       "      <td>0.000000</td>\n",
       "      <td>0.015504</td>\n",
       "    </tr>\n",
       "  </tbody>\n",
       "</table>\n",
       "</div>"
      ],
      "text/plain": [
       "               airbnb    places      rest\n",
       "CT_ID_10                                 \n",
       "25025000100  0.235123  0.133333  0.077519\n",
       "25025000201  0.071924  0.000000  0.042636\n",
       "25025000202  0.024028  0.000000  0.027132\n",
       "25025000301  0.065635  0.000000  0.023256\n",
       "25025000302  0.100951  0.000000  0.015504"
      ]
     },
     "execution_count": 274,
     "metadata": {},
     "output_type": "execute_result"
    }
   ],
   "source": [
    "scaler = MinMaxScaler()\n",
    "\n",
    "scaled_df = combined_df.copy()\n",
    "\n",
    "# Apply to each column\n",
    "scaled_df['airbnb'] = scaler.fit_transform(scaled_df['airbnb'].values.reshape(-1,1))\n",
    "scaled_df['places'] = scaler.fit_transform(scaled_df['places'].values.reshape(-1,1))\n",
    "scaled_df['rest'] = scaler.fit_transform(scaled_df['rest'].values.reshape(-1,1))\n",
    "\n",
    "scaled_df.head()"
   ]
  },
  {
   "cell_type": "markdown",
   "metadata": {},
   "source": [
    "Combined the three values, weighted equally, to create final ecometric."
   ]
  },
  {
   "cell_type": "code",
   "execution_count": 275,
   "metadata": {
    "scrolled": true
   },
   "outputs": [
    {
     "data": {
      "text/html": [
       "<div>\n",
       "<style scoped>\n",
       "    .dataframe tbody tr th:only-of-type {\n",
       "        vertical-align: middle;\n",
       "    }\n",
       "\n",
       "    .dataframe tbody tr th {\n",
       "        vertical-align: top;\n",
       "    }\n",
       "\n",
       "    .dataframe thead th {\n",
       "        text-align: right;\n",
       "    }\n",
       "</style>\n",
       "<table border=\"1\" class=\"dataframe\">\n",
       "  <thead>\n",
       "    <tr style=\"text-align: right;\">\n",
       "      <th></th>\n",
       "      <th>ecometric</th>\n",
       "    </tr>\n",
       "    <tr>\n",
       "      <th>CT_ID_10</th>\n",
       "      <th></th>\n",
       "    </tr>\n",
       "  </thead>\n",
       "  <tbody>\n",
       "    <tr>\n",
       "      <th>25025000100</th>\n",
       "      <td>0.445976</td>\n",
       "    </tr>\n",
       "    <tr>\n",
       "      <th>25025000201</th>\n",
       "      <td>0.114560</td>\n",
       "    </tr>\n",
       "    <tr>\n",
       "      <th>25025000202</th>\n",
       "      <td>0.051160</td>\n",
       "    </tr>\n",
       "    <tr>\n",
       "      <th>25025000301</th>\n",
       "      <td>0.088890</td>\n",
       "    </tr>\n",
       "    <tr>\n",
       "      <th>25025000302</th>\n",
       "      <td>0.116455</td>\n",
       "    </tr>\n",
       "  </tbody>\n",
       "</table>\n",
       "</div>"
      ],
      "text/plain": [
       "             ecometric\n",
       "CT_ID_10              \n",
       "25025000100   0.445976\n",
       "25025000201   0.114560\n",
       "25025000202   0.051160\n",
       "25025000301   0.088890\n",
       "25025000302   0.116455"
      ]
     },
     "execution_count": 275,
     "metadata": {},
     "output_type": "execute_result"
    }
   ],
   "source": [
    "scaled_df['ecometric'] = \\\n",
    "1 * scaled_df['airbnb'] +  1 * scaled_df['places'] + 1 * scaled_df['rest']\n",
    "\n",
    "# select only the ecometric column\n",
    "ecometric_df = scaled_df.filter(['ecometric'], axis=1)\n",
    "ecometric_df.head()"
   ]
  },
  {
   "cell_type": "markdown",
   "metadata": {},
   "source": [
    "## 4. Analysis / Visualizations"
   ]
  },
  {
   "cell_type": "markdown",
   "metadata": {},
   "source": [
    "### Mapping"
   ]
  },
  {
   "cell_type": "markdown",
   "metadata": {},
   "source": [
    "To create a choropleth map using geopandas the ecometric column is joined with a boston geojson file on the shared census tract id column. Then the plot is created using our ecometric for the scale."
   ]
  },
  {
   "cell_type": "code",
   "execution_count": 276,
   "metadata": {},
   "outputs": [
    {
     "data": {
      "image/png": "[encoded data removed]",
      "text/plain": [
       "<Figure size 1440x720 with 2 Axes>"
      ]
     },
     "metadata": {
      "needs_background": "light"
     },
     "output_type": "display_data"
    }
   ],
   "source": [
    "# rename the shape file to have matching column name for census tract as our ecometric\n",
    "shape_df = shape_df.rename(columns={'GEOID10':'CT_ID_10'})\n",
    "# ensure both are type int64\n",
    "shape_df = shape_df.astype({'CT_ID_10': 'int64'})\n",
    "\n",
    "# join ecometric and shape df\n",
    "map_df = pd.merge(shape_df, ecometric_df, on='CT_ID_10')\n",
    "\n",
    "map_df.plot(column = 'ecometric', legend=True, figsize=(20,10))\n",
    "plt.title('Boston Tourism Census Tract Ecometric', fontsize = 20)\n",
    "plt.show()"
   ]
  },
  {
   "cell_type": "markdown",
   "metadata": {},
   "source": [
    "Todo : Explain map"
   ]
  },
  {
   "cell_type": "markdown",
   "metadata": {},
   "source": [
    "### Statistics and Plots"
   ]
  },
  {
   "cell_type": "code",
   "execution_count": 277,
   "metadata": {},
   "outputs": [
    {
     "data": {
      "image/png": "[encoded data removed]",
      "text/plain": [
       "<Figure size 432x288 with 1 Axes>"
      ]
     },
     "metadata": {
      "needs_background": "light"
     },
     "output_type": "display_data"
    }
   ],
   "source": [
    "bins = int(ecometric_df.shape[0]/5)\n",
    "ecometric_df_unindexed = ecometric_df.reset_index()\n",
    "plt.hist(ecometric_df_unindexed['ecometric'], bins=bins)\n",
    "plt.xlabel(\"Tourism Index\")\n",
    "plt.ylabel(\"TODO\")\n",
    "plt.title(\"TODO\")\n",
    "plt.show()"
   ]
  },
  {
   "cell_type": "markdown",
   "metadata": {},
   "source": [
    "By binning the census tracts together we can see that tourism is very concentrated in Boston. There are a few tracts which have much more tourism than all the others. The vast majority of tracts in Boston have little tourism (by our ecometric) in comparison. This result aligns with our map above which shows downtown having a much higher ecometric as there are much more resturants, places of interest, and airbnbs."
   ]
  },
  {
   "cell_type": "code",
   "execution_count": 278,
   "metadata": {},
   "outputs": [
    {
     "name": "stdout",
     "output_type": "stream",
     "text": [
      "airbnb \n",
      " count     166.000000\n",
      "mean      632.475904\n",
      "std       730.927171\n",
      "min         6.000000\n",
      "25%       200.750000\n",
      "50%       444.500000\n",
      "75%       767.000000\n",
      "max      6207.000000\n",
      "Name: airbnb, dtype: float64\n",
      "------------------------------ \n",
      "\n",
      "places \n",
      " count    166.000000\n",
      "mean       3.114458\n",
      "std        7.477167\n",
      "min        0.000000\n",
      "25%        0.000000\n",
      "50%        1.000000\n",
      "75%        2.000000\n",
      "max       60.000000\n",
      "Name: places, dtype: float64\n",
      "------------------------------ \n",
      "\n",
      "rest \n",
      " count    166.000000\n",
      "mean      16.030120\n",
      "std       29.203243\n",
      "min        1.000000\n",
      "25%        4.000000\n",
      "50%        9.000000\n",
      "75%       16.750000\n",
      "max      259.000000\n",
      "Name: rest, dtype: float64\n",
      "------------------------------ \n",
      "\n"
     ]
    },
    {
     "data": {
      "text/html": [
       "<div>\n",
       "<style scoped>\n",
       "    .dataframe tbody tr th:only-of-type {\n",
       "        vertical-align: middle;\n",
       "    }\n",
       "\n",
       "    .dataframe tbody tr th {\n",
       "        vertical-align: top;\n",
       "    }\n",
       "\n",
       "    .dataframe thead th {\n",
       "        text-align: right;\n",
       "    }\n",
       "</style>\n",
       "<table border=\"1\" class=\"dataframe\">\n",
       "  <thead>\n",
       "    <tr style=\"text-align: right;\">\n",
       "      <th></th>\n",
       "      <th>airbnb</th>\n",
       "      <th>places</th>\n",
       "      <th>rest</th>\n",
       "    </tr>\n",
       "  </thead>\n",
       "  <tbody>\n",
       "    <tr>\n",
       "      <th>airbnb</th>\n",
       "      <td>1.000000</td>\n",
       "      <td>0.442344</td>\n",
       "      <td>0.666097</td>\n",
       "    </tr>\n",
       "    <tr>\n",
       "      <th>places</th>\n",
       "      <td>0.442344</td>\n",
       "      <td>1.000000</td>\n",
       "      <td>0.655762</td>\n",
       "    </tr>\n",
       "    <tr>\n",
       "      <th>rest</th>\n",
       "      <td>0.666097</td>\n",
       "      <td>0.655762</td>\n",
       "      <td>1.000000</td>\n",
       "    </tr>\n",
       "  </tbody>\n",
       "</table>\n",
       "</div>"
      ],
      "text/plain": [
       "          airbnb    places      rest\n",
       "airbnb  1.000000  0.442344  0.666097\n",
       "places  0.442344  1.000000  0.655762\n",
       "rest    0.666097  0.655762  1.000000"
      ]
     },
     "execution_count": 278,
     "metadata": {},
     "output_type": "execute_result"
    }
   ],
   "source": [
    "for col in combined_df.columns:\n",
    "    print(col, '\\n', combined_df[col].describe())\n",
    "    print('-' * 30, '\\n')\n",
    "combined_df.corr()"
   ]
  },
  {
   "cell_type": "markdown",
   "metadata": {},
   "source": [
    "todo: Explain metrics"
   ]
  },
  {
   "cell_type": "code",
   "execution_count": 279,
   "metadata": {},
   "outputs": [
    {
     "data": {
      "text/html": [
       "<div>\n",
       "<style scoped>\n",
       "    .dataframe tbody tr th:only-of-type {\n",
       "        vertical-align: middle;\n",
       "    }\n",
       "\n",
       "    .dataframe tbody tr th {\n",
       "        vertical-align: top;\n",
       "    }\n",
       "\n",
       "    .dataframe thead th {\n",
       "        text-align: right;\n",
       "    }\n",
       "</style>\n",
       "<table border=\"1\" class=\"dataframe\">\n",
       "  <thead>\n",
       "    <tr style=\"text-align: right;\">\n",
       "      <th></th>\n",
       "      <th>ecometric</th>\n",
       "    </tr>\n",
       "  </thead>\n",
       "  <tbody>\n",
       "    <tr>\n",
       "      <th>count</th>\n",
       "      <td>166.000000</td>\n",
       "    </tr>\n",
       "    <tr>\n",
       "      <th>mean</th>\n",
       "      <td>0.211192</td>\n",
       "    </tr>\n",
       "    <tr>\n",
       "      <th>std</th>\n",
       "      <td>0.302499</td>\n",
       "    </tr>\n",
       "    <tr>\n",
       "      <th>min</th>\n",
       "      <td>0.003876</td>\n",
       "    </tr>\n",
       "    <tr>\n",
       "      <th>25%</th>\n",
       "      <td>0.070705</td>\n",
       "    </tr>\n",
       "    <tr>\n",
       "      <th>50%</th>\n",
       "      <td>0.119119</td>\n",
       "    </tr>\n",
       "    <tr>\n",
       "      <th>75%</th>\n",
       "      <td>0.212709</td>\n",
       "    </tr>\n",
       "    <tr>\n",
       "      <th>max</th>\n",
       "      <td>2.550000</td>\n",
       "    </tr>\n",
       "  </tbody>\n",
       "</table>\n",
       "</div>"
      ],
      "text/plain": [
       "        ecometric\n",
       "count  166.000000\n",
       "mean     0.211192\n",
       "std      0.302499\n",
       "min      0.003876\n",
       "25%      0.070705\n",
       "50%      0.119119\n",
       "75%      0.212709\n",
       "max      2.550000"
      ]
     },
     "execution_count": 279,
     "metadata": {},
     "output_type": "execute_result"
    }
   ],
   "source": [
    "ecometric_df.describe()"
   ]
  },
  {
   "cell_type": "markdown",
   "metadata": {},
   "source": [
    "todo: Explain ecometric metrics"
   ]
  },
  {
   "cell_type": "markdown",
   "metadata": {},
   "source": [
    "### Questions\n",
    "\n",
    "todo: paste in some q answers from google doc\n",
    "\n",
    "We have answered many throughout our notebook and also compiled questions here. \n",
    "\n",
    "**What is the phenomenon that you are trying to measure through your newly generated variable? In other words – define your concept.**\n",
    "\n",
    "\n",
    "**How do the variables you included in your measure relate to your concept of interest?**\n",
    "\n",
    "**How did you address missing data? How much of it was there? Why did you choose this strategy?**\n",
    "\n",
    "**What strategy did you choose to aggregate your data from record-level to neighborhood-level information? Why was this the most appropriate strategy for measuring your concept of interest?**\n",
    "\n",
    "**What do the statistics and visualization you produced tell us about the state of disorder/gentrification/tourism/etc. across Boston neighborhoods?**\n",
    "\n",
    "**What types of additional information or variables might have enhanced your ability to represent your chosen phenomenon through data?**"
   ]
  },
  {
   "cell_type": "code",
   "execution_count": null,
   "metadata": {},
   "outputs": [],
   "source": []
  }
 ],
 "metadata": {
  "kernelspec": {
   "display_name": "Python 3",
   "language": "python",
   "name": "python3"
  },
  "language_info": {
   "codemirror_mode": {
    "name": "ipython",
    "version": 3
   },
   "file_extension": ".py",
   "mimetype": "text/x-python",
   "name": "python",
   "nbconvert_exporter": "python",
   "pygments_lexer": "ipython3",
   "version": "3.8.2"
  }
 },
 "nbformat": 4,
 "nbformat_minor": 4
}
