{
 "cells": [
  {
   "cell_type": "markdown",
   "metadata": {},
   "source": [
    "# Tourism Ecometric - Group 7\n",
    "\n",
    "**Meng Forrest,\n",
    "Michiels Garrett, \n",
    "Mitchell Timothy, \n",
    "Peter Gabriel,\n",
    "Pickett Daniel**\n",
    "\n",
    "\n",
    "## Intro\n",
    "\n",
    "\n",
    "##### Todo - Begin with a markdown cell that defines the concept being studied and explains why it is interesting.\n",
    "\n",
    "For the 2nd mini project, our group created a tourism ecometric using a weighted sum of data from three of the provided data sets: google places, airbnb, and yelp reviews. Tourism is composed of people visiting, staying, and experiencing places that are new to them. Using these three data sets we can measure the tourism in a certain area. The googe places data set allows us to identify points of interest in an area that tourists are likely to visit and be around such as acquariums, museums, and art gallerys. The yelp review dataset allows us to count the number of restaurants listed on yelp in a certain area. The Airbnb dataset allows for a measure of mostly temporary short term housing in an area. By combining these metrics into one ecometric for tourism, we have a much better measure of all of the tourist related activity than could be measured using any single one."
   ]
  },
  {
   "cell_type": "markdown",
   "metadata": {},
   "source": [
    "## 1. Read in Data\n",
    "\n",
    "We first read in the provided CSV data for google places, airbnb listings, and yelp restaurants. We use the csv's provided as in from the assignment. They are not modified at all before reading them in."
   ]
  },
  {
   "cell_type": "code",
   "execution_count": 2,
   "metadata": {},
   "outputs": [],
   "source": [
    "import pandas as pd\n",
    "import matplotlib.pyplot as plt\n",
    "# install from source \n",
    "# https://geopandas.org/getting_started/install.html\n",
    "# !pip install geopandas\n",
    "# import geopandas"
   ]
  },
  {
   "cell_type": "code",
   "execution_count": 3,
   "metadata": {},
   "outputs": [],
   "source": [
    "places_df = pd.read_csv('data/GooglePlaces.csv', low_memory=False)\n",
    "airbnb_df = pd.read_csv('data/AIRBNB_Listings.csv', low_memory=False)\n",
    "yelp_df = pd.read_csv('data/YELP_Restaurants.csv', low_memory=False)"
   ]
  },
  {
   "cell_type": "markdown",
   "metadata": {},
   "source": [
    "## 2 / 3. Identifying and Aggregating Columns of Interest"
   ]
  },
  {
   "cell_type": "markdown",
   "metadata": {},
   "source": [
    "### Columns of interest - Places\n",
    "\n",
    "The places dataset 'Tag_1' column gives a description of each place. To identify tourism we will filter and only count specific places which we have identified as relating to tourism. This includes art galleries, museums and more. We will avoid banks, doctors, and other non tourist related buildings. When someone visits a new place they are highly unlikely to visit these or if they do it is much less common."
   ]
  },
  {
   "cell_type": "code",
   "execution_count": 4,
   "metadata": {},
   "outputs": [
    {
     "data": {
      "text/plain": [
       "Index(['GIS_ID', 'place_id', 'name', 'Tag_1', 'Tag_2', 'Tag_3', 'Tag_4',\n",
       "       'Tag_5', 'Tag_6', 'Tag_7', 'Tag_8', 'Tag_9', 'Tag_10', 'vicinity', 'X',\n",
       "       'Y', 'Blk_ID_10', 'CT_ID_10'],\n",
       "      dtype='object')"
      ]
     },
     "execution_count": 4,
     "metadata": {},
     "output_type": "execute_result"
    }
   ],
   "source": [
    "places_df.columns"
   ]
  },
  {
   "cell_type": "markdown",
   "metadata": {},
   "source": [
    "To decide which locations available can be used for tourism, we display a list of all the possible locations."
   ]
  },
  {
   "cell_type": "code",
   "execution_count": 5,
   "metadata": {},
   "outputs": [
    {
     "data": {
      "text/plain": [
       "array(['restaurant', 'doctor', 'synagogue', 'general_contractor',\n",
       "       'clothing_store', 'health', 'bakery', 'bank', 'gym', 'bar',\n",
       "       'beauty_salon', 'insurance_agency', 'atm', 'physiotherapist',\n",
       "       'pharmacy', 'grocery_or_supermarket', 'finance', 'shoe_store',\n",
       "       'local_government_office', 'moving_company', 'car_dealer', 'spa',\n",
       "       'cafe', 'hair_care', 'store', 'fire_station', 'dentist',\n",
       "       'accounting', 'lawyer', 'real_estate_agency', 'home_goods_store',\n",
       "       'laundry', 'convenience_store', 'church', 'movie_theater',\n",
       "       'place_of_worship', 'parking', 'liquor_store', 'furniture_store',\n",
       "       'hospital', 'travel_agency', 'embassy', 'bus_station', 'park',\n",
       "       'courthouse', 'hardware_store', 'art_gallery', 'car_repair',\n",
       "       'meal_delivery', 'car_rental', 'jewelry_store', 'electrician',\n",
       "       'storage', 'bicycle_store', 'plumber', 'veterinary_care',\n",
       "       'lodging', 'electronics_store', 'library', 'museum', 'painter',\n",
       "       'food', 'night_club', 'roofing_contractor', 'florist', 'school',\n",
       "       'university', 'shopping_mall', nan, 'pet_store', 'book_store',\n",
       "       'cemetery', 'funeral_home', 'police', 'post_office',\n",
       "       'meal_takeaway', 'premise', 'stadium', 'car_wash', 'train_station',\n",
       "       'gas_station', 'hindu_temple', 'department_store', 'airport',\n",
       "       'transit_station', 'bowling_alley', 'subway_station', 'rv_park',\n",
       "       'amusement_park', 'movie_rental', 'mosque', 'locksmith',\n",
       "       'city_hall', 'campground', 'aquarium', 'neighborhood', 'zoo',\n",
       "       'light_rail_station'], dtype=object)"
      ]
     },
     "execution_count": 5,
     "metadata": {},
     "output_type": "execute_result"
    }
   ],
   "source": [
    "places_df['Tag_1'].unique()"
   ]
  },
  {
   "cell_type": "markdown",
   "metadata": {},
   "source": [
    "Then we create a list of a subset of these places which relate to tourism.\n",
    "\n",
    "- park\n",
    "- acquarium\n",
    "- museum\n",
    "- bowling alley\n",
    "- zoo\n",
    "- embassy\n",
    "- night club\n",
    "- art gallery\n",
    "- car rental"
   ]
  },
  {
   "cell_type": "code",
   "execution_count": 6,
   "metadata": {},
   "outputs": [],
   "source": [
    "poi = ['park', 'aquarium', 'museum', 'bowling_alley','stadium', 'zoo', 'embassy', 'night_club', 'art_gallery', 'car_rental']"
   ]
  },
  {
   "cell_type": "markdown",
   "metadata": {},
   "source": [
    "Finally for googe places, we create a dictionary which maps each census tract id to a count of the number of tourism related places found in that tract. All the census tracts start at 0. For each row, if the rows 'Tag_1' column is within our list of places of interest, we increment the count of that id, otherwise we go to the next row. Then we turn the dictionary into a series to be used to create the ecometric"
   ]
  },
  {
   "cell_type": "code",
   "execution_count": 7,
   "metadata": {},
   "outputs": [
    {
     "data": {
      "text/plain": [
       "CT_ID_10\n",
       "25025000802    13\n",
       "25025040801     5\n",
       "25025071101     2\n",
       "25025060600    19\n",
       "25025040600     2\n",
       "               ..\n",
       "25025060200     0\n",
       "25025980700     0\n",
       "25025981000     2\n",
       "25025061101     0\n",
       "25025981502     0\n",
       "Name: counts, Length: 181, dtype: int64"
      ]
     },
     "execution_count": 7,
     "metadata": {},
     "output_type": "execute_result"
    }
   ],
   "source": [
    "places_counts = {}\n",
    "\n",
    "# work from a copy of the dataframe to not modify the source\n",
    "temp_places_df = places_df.copy()\n",
    "temp_places_df = temp_places_df.dropna(subset=['CT_ID_10'])\n",
    "temp_places_df = temp_places_df.reset_index()\n",
    "\n",
    "for r in range(temp_places_df.shape[0]):\n",
    "    \n",
    "    # try catch will help with nan and other invalid columns, in this case we pass\n",
    "    try:\n",
    "        tract = temp_places_df.at[r, 'CT_ID_10']\n",
    "\n",
    "        # adjust improperly formatted tracts\n",
    "        if str(tract).endswith('.0'):\n",
    "            tract = str(tract)[:-2]\n",
    "            tract = int(tract)\n",
    "\n",
    "        tract = int(tract)\n",
    "\n",
    "        if tract not in places_counts:\n",
    "            places_counts[tract] = 0\n",
    "\n",
    "        # row is place of tourism\n",
    "        if temp_places_df.at[r, 'Tag_1'] in poi:    \n",
    "            places_counts[tract] += 1\n",
    "    except:\n",
    "        pass\n",
    "\n",
    "places_count = pd.Series(places_counts)\n",
    "places_count = places_count.rename(\"counts\")\n",
    "places_count = places_count.rename_axis(\"CT_ID_10\")\n",
    "places_count"
   ]
  },
  {
   "cell_type": "markdown",
   "metadata": {},
   "source": [
    "### Columns of interest - Airbnb"
   ]
  },
  {
   "cell_type": "markdown",
   "metadata": {},
   "source": [
    "For airbnb data, we first acknowledged that because we do not have a complete list of all airbnb listings, but only a subset, we must be careful with how we use the data. Therefore we stuck with simply counting the number of bed spaces in each tract. We are making the assumption that, despite not having every listing, tracts more popular with tourism will still have a net higher count of bed spaces than much less popular areas. This also ensures we are weighting airbnbs that can hold more people higher than smaller capacity airbnbs as they will house more people in the area."
   ]
  },
  {
   "cell_type": "code",
   "execution_count": 8,
   "metadata": {},
   "outputs": [
    {
     "data": {
      "text/plain": [
       "Index(['name', 'summary', 'space', 'description', 'neighborhood_overview',\n",
       "       'notes', 'transit', 'access', 'interaction', 'house_rules', 'id',\n",
       "       'Year', 'Month', 'listing_url', 'picture_url', 'property_type',\n",
       "       'room_type', 'accommodates', 'bathrooms', 'bedrooms', 'beds',\n",
       "       'bed_type', 'amenities', 'square_feet', 'price', 'weekly_price',\n",
       "       'monthly_price', 'security_deposit', 'cleaning_fee', 'guests_included',\n",
       "       'extra_people', 'minimum_nights', 'maximum_nights', 'calendar_updated',\n",
       "       'availability_30', 'availability_60', 'availability_90',\n",
       "       'availability_365', 'calendar_last_scraped', 'requires_license',\n",
       "       'license', 'instant_bookable', 'cancellation_policy',\n",
       "       'require_guest_profile_picture', 'require_guest_phone_verification',\n",
       "       'is_business_travel_ready', 'host_id', 'host_url', 'host_name',\n",
       "       'host_since', 'host_location', 'host_about', 'host_response_time',\n",
       "       'host_response_rate', 'host_acceptance_rate', 'host_is_superhost',\n",
       "       'host_thumbnail_url', 'host_picture_url', 'host_total_listings_count',\n",
       "       'host_verifications', 'host_has_profile_pic', 'host_identity_verified',\n",
       "       'calculated_host_listings_count',\n",
       "       'calculated_host_listings_count_entire_homes',\n",
       "       'calculated_host_listings_count_private_rooms',\n",
       "       'calculated_host_listings_count_shared_rooms', 'number_of_reviews',\n",
       "       'number_of_reviews_ltm', 'reviews_per_month', 'first_review',\n",
       "       'last_review', 'review_scores_rating', 'review_scores_accuracy',\n",
       "       'review_scores_cleanliness', 'review_scores_checkin',\n",
       "       'review_scores_communication', 'review_scores_location',\n",
       "       'review_scores_value', 'latitude', 'longitude', 'street',\n",
       "       'is_location_exact', 'airbnb_region', 'Blk_ID_10', 'CT_ID_10', 'TOWN',\n",
       "       'COUNTY'],\n",
       "      dtype='object')"
      ]
     },
     "execution_count": 8,
     "metadata": {},
     "output_type": "execute_result"
    }
   ],
   "source": [
    "airbnb_df.columns"
   ]
  },
  {
   "cell_type": "markdown",
   "metadata": {},
   "source": [
    "We create a series grouped by each tract where the value associated with that tract is the sum of availble beds"
   ]
  },
  {
   "cell_type": "code",
   "execution_count": 9,
   "metadata": {},
   "outputs": [
    {
     "data": {
      "text/plain": [
       "CT_ID_10\n",
       "25017342400     13\n",
       "25017350103      1\n",
       "25017350104      1\n",
       "25017350400      3\n",
       "25017350500      5\n",
       "              ... \n",
       "25025981202     38\n",
       "25025981300     47\n",
       "25025981501    205\n",
       "25025981700     18\n",
       "25025981800    451\n",
       "Name: counts, Length: 249, dtype: int64"
      ]
     },
     "execution_count": 9,
     "metadata": {},
     "output_type": "execute_result"
    }
   ],
   "source": [
    "bnb_count = airbnb_df.groupby(by=['CT_ID_10']).count()['name']\n",
    "bnb_count = bnb_count.rename(\"counts\")\n",
    "bnb_count"
   ]
  },
  {
   "cell_type": "markdown",
   "metadata": {},
   "source": [
    "### Columns of interest - Yelp\n",
    "\n",
    "For yelp we count the number of restuarants in each tract. We use this to get a general idea of how many options would be availble to a person visting a certain location. An area with a lot of resaurants could be more popular for tourism. We haven't distinguished based on price because both inexpensive and expensive restaurants could be popular depending on the type of tourist."
   ]
  },
  {
   "cell_type": "code",
   "execution_count": 10,
   "metadata": {},
   "outputs": [
    {
     "data": {
      "text/plain": [
       "Index(['restaurant_name', 'restaurant_ID', 'restaurant_address',\n",
       "       'restaurant_tag', 'rating', 'price', 'review_number', 'unique_reviewer',\n",
       "       'reviews_Jan_19', 'reviews_Feb_19', 'reviews_Mar_19', 'reviews_Apr_19',\n",
       "       'reviews_May_19', 'reviews_Jun_19', 'reviews_Jul_19', 'reviews_Aug_19',\n",
       "       'reviews_Jan_20', 'reviews_Feb_20', 'reviews_Mar_20', 'reviews_Apr_20',\n",
       "       'reviews_May_20', 'reviews_Jun_20', 'reviews_Jul_20', 'reviews_Aug_20',\n",
       "       'restaurant_neighborhood', 'GIS_ID', 'CT_ID_10'],\n",
       "      dtype='object')"
      ]
     },
     "execution_count": 10,
     "metadata": {},
     "output_type": "execute_result"
    }
   ],
   "source": [
    "yelp_df.columns"
   ]
  },
  {
   "cell_type": "markdown",
   "metadata": {},
   "source": [
    "We create a series grouped by each tract where the value associated with that tract is the count of restaurants."
   ]
  },
  {
   "cell_type": "code",
   "execution_count": 11,
   "metadata": {},
   "outputs": [
    {
     "data": {
      "text/plain": [
       "CT_ID_10\n",
       "25025000100    21\n",
       "25025000201    12\n",
       "25025000202     8\n",
       "25025000301     7\n",
       "25025000302     5\n",
       "               ..\n",
       "25025981300    60\n",
       "25025981501     1\n",
       "25025981600     1\n",
       "25025981700     1\n",
       "25025990101     1\n",
       "Name: counts, Length: 169, dtype: int64"
      ]
     },
     "execution_count": 11,
     "metadata": {},
     "output_type": "execute_result"
    }
   ],
   "source": [
    "res_count = yelp_df.groupby(by=['CT_ID_10']).count()['restaurant_name']\n",
    "res_count = res_count.rename(\"counts\")\n",
    "res_count"
   ]
  },
  {
   "cell_type": "markdown",
   "metadata": {},
   "source": [
    "## 3. Joining for Ecometric\n",
    "\n",
    "With three series representing housing, restaurants, and tourist locations, we can now join these into creating our tourism ecometric.\n",
    "\n",
    "All of the series are converted into a dataframe and then joined on the 'CT_ID_10' column using an inner join. This means to construct our final ecometric we will only includes tracts that have data from all three of our series. Although we may miss out on a few tracts, all of the tracts that we do create an ecometric for we know are backed by our data."
   ]
  },
  {
   "cell_type": "code",
   "execution_count": 12,
   "metadata": {},
   "outputs": [],
   "source": [
    "cols = {'airbnb':bnb_count}\n",
    "bnb_df = pd.DataFrame(cols)\n",
    "\n",
    "cols1 = {'places':places_count}\n",
    "places_df = pd.DataFrame(cols1)\n",
    "\n",
    "cols2 = {'rest':res_count}\n",
    "rest_df = pd.DataFrame(cols2)"
   ]
  },
  {
   "cell_type": "code",
   "execution_count": 13,
   "metadata": {},
   "outputs": [
    {
     "data": {
      "text/html": [
       "<div>\n",
       "<style scoped>\n",
       "    .dataframe tbody tr th:only-of-type {\n",
       "        vertical-align: middle;\n",
       "    }\n",
       "\n",
       "    .dataframe tbody tr th {\n",
       "        vertical-align: top;\n",
       "    }\n",
       "\n",
       "    .dataframe thead th {\n",
       "        text-align: right;\n",
       "    }\n",
       "</style>\n",
       "<table border=\"1\" class=\"dataframe\">\n",
       "  <thead>\n",
       "    <tr style=\"text-align: right;\">\n",
       "      <th></th>\n",
       "      <th>airbnb</th>\n",
       "      <th>places</th>\n",
       "      <th>rest</th>\n",
       "    </tr>\n",
       "    <tr>\n",
       "      <th>CT_ID_10</th>\n",
       "      <th></th>\n",
       "      <th></th>\n",
       "      <th></th>\n",
       "    </tr>\n",
       "  </thead>\n",
       "  <tbody>\n",
       "    <tr>\n",
       "      <th>25025000100</th>\n",
       "      <td>961</td>\n",
       "      <td>8</td>\n",
       "      <td>21</td>\n",
       "    </tr>\n",
       "    <tr>\n",
       "      <th>25025000201</th>\n",
       "      <td>340</td>\n",
       "      <td>0</td>\n",
       "      <td>12</td>\n",
       "    </tr>\n",
       "    <tr>\n",
       "      <th>25025000202</th>\n",
       "      <td>95</td>\n",
       "      <td>0</td>\n",
       "      <td>8</td>\n",
       "    </tr>\n",
       "    <tr>\n",
       "      <th>25025000301</th>\n",
       "      <td>272</td>\n",
       "      <td>0</td>\n",
       "      <td>7</td>\n",
       "    </tr>\n",
       "    <tr>\n",
       "      <th>25025000302</th>\n",
       "      <td>325</td>\n",
       "      <td>0</td>\n",
       "      <td>5</td>\n",
       "    </tr>\n",
       "  </tbody>\n",
       "</table>\n",
       "</div>"
      ],
      "text/plain": [
       "             airbnb  places  rest\n",
       "CT_ID_10                         \n",
       "25025000100     961       8    21\n",
       "25025000201     340       0    12\n",
       "25025000202      95       0     8\n",
       "25025000301     272       0     7\n",
       "25025000302     325       0     5"
      ]
     },
     "execution_count": 13,
     "metadata": {},
     "output_type": "execute_result"
    }
   ],
   "source": [
    "bnb_places = bnb_df.join(places_df, how='inner', sort=False)\n",
    "combined_df = bnb_places.join(rest_df, how='inner', sort=False)\n",
    "combined_df.head()"
   ]
  },
  {
   "cell_type": "markdown",
   "metadata": {},
   "source": [
    "Since each of the three seperate measurements have different units and scales, we normalize the data before creating our ecometric. This is because we don't want 323 bed spaces in a tract to count 323x more towards the ecometric than 1 restaurant. By scaling each of the columns the same they can be merged together to create our final metric."
   ]
  },
  {
   "cell_type": "code",
   "execution_count": 14,
   "metadata": {},
   "outputs": [
    {
     "data": {
      "text/html": [
       "<div>\n",
       "<style scoped>\n",
       "    .dataframe tbody tr th:only-of-type {\n",
       "        vertical-align: middle;\n",
       "    }\n",
       "\n",
       "    .dataframe tbody tr th {\n",
       "        vertical-align: top;\n",
       "    }\n",
       "\n",
       "    .dataframe thead th {\n",
       "        text-align: right;\n",
       "    }\n",
       "</style>\n",
       "<table border=\"1\" class=\"dataframe\">\n",
       "  <thead>\n",
       "    <tr style=\"text-align: right;\">\n",
       "      <th></th>\n",
       "      <th>airbnb</th>\n",
       "      <th>places</th>\n",
       "      <th>rest</th>\n",
       "    </tr>\n",
       "    <tr>\n",
       "      <th>CT_ID_10</th>\n",
       "      <th></th>\n",
       "      <th></th>\n",
       "      <th></th>\n",
       "    </tr>\n",
       "  </thead>\n",
       "  <tbody>\n",
       "    <tr>\n",
       "      <th>25025000100</th>\n",
       "      <td>0.267732</td>\n",
       "      <td>0.133333</td>\n",
       "      <td>0.077519</td>\n",
       "    </tr>\n",
       "    <tr>\n",
       "      <th>25025000201</th>\n",
       "      <td>0.093636</td>\n",
       "      <td>0.000000</td>\n",
       "      <td>0.042636</td>\n",
       "    </tr>\n",
       "    <tr>\n",
       "      <th>25025000202</th>\n",
       "      <td>0.024951</td>\n",
       "      <td>0.000000</td>\n",
       "      <td>0.027132</td>\n",
       "    </tr>\n",
       "    <tr>\n",
       "      <th>25025000301</th>\n",
       "      <td>0.074572</td>\n",
       "      <td>0.000000</td>\n",
       "      <td>0.023256</td>\n",
       "    </tr>\n",
       "    <tr>\n",
       "      <th>25025000302</th>\n",
       "      <td>0.089431</td>\n",
       "      <td>0.000000</td>\n",
       "      <td>0.015504</td>\n",
       "    </tr>\n",
       "  </tbody>\n",
       "</table>\n",
       "</div>"
      ],
      "text/plain": [
       "               airbnb    places      rest\n",
       "CT_ID_10                                 \n",
       "25025000100  0.267732  0.133333  0.077519\n",
       "25025000201  0.093636  0.000000  0.042636\n",
       "25025000202  0.024951  0.000000  0.027132\n",
       "25025000301  0.074572  0.000000  0.023256\n",
       "25025000302  0.089431  0.000000  0.015504"
      ]
     },
     "execution_count": 14,
     "metadata": {},
     "output_type": "execute_result"
    }
   ],
   "source": [
    "from sklearn.preprocessing import MinMaxScaler\n",
    "\n",
    "# MinMaxScaler makes all values in a column scaled between 0-1\n",
    "scaler = MinMaxScaler()\n",
    "\n",
    "scaled_df = combined_df.copy()\n",
    "\n",
    "# Apply to each column\n",
    "scaled_df['airbnb'] = scaler.fit_transform(scaled_df['airbnb'].values.reshape(-1,1))\n",
    "scaled_df['places'] = scaler.fit_transform(scaled_df['places'].values.reshape(-1,1))\n",
    "scaled_df['rest'] = scaler.fit_transform(scaled_df['rest'].values.reshape(-1,1))\n",
    "\n",
    "scaled_df.head()"
   ]
  },
  {
   "cell_type": "markdown",
   "metadata": {},
   "source": [
    "Combined the three values, weighted equally, to create final ecometric."
   ]
  },
  {
   "cell_type": "code",
   "execution_count": 15,
   "metadata": {},
   "outputs": [
    {
     "data": {
      "text/html": [
       "<div>\n",
       "<style scoped>\n",
       "    .dataframe tbody tr th:only-of-type {\n",
       "        vertical-align: middle;\n",
       "    }\n",
       "\n",
       "    .dataframe tbody tr th {\n",
       "        vertical-align: top;\n",
       "    }\n",
       "\n",
       "    .dataframe thead th {\n",
       "        text-align: right;\n",
       "    }\n",
       "</style>\n",
       "<table border=\"1\" class=\"dataframe\">\n",
       "  <thead>\n",
       "    <tr style=\"text-align: right;\">\n",
       "      <th></th>\n",
       "      <th>ecometric</th>\n",
       "    </tr>\n",
       "    <tr>\n",
       "      <th>CT_ID_10</th>\n",
       "      <th></th>\n",
       "    </tr>\n",
       "  </thead>\n",
       "  <tbody>\n",
       "    <tr>\n",
       "      <th>25025000100</th>\n",
       "      <td>0.478585</td>\n",
       "    </tr>\n",
       "    <tr>\n",
       "      <th>25025000201</th>\n",
       "      <td>0.136272</td>\n",
       "    </tr>\n",
       "    <tr>\n",
       "      <th>25025000202</th>\n",
       "      <td>0.052083</td>\n",
       "    </tr>\n",
       "    <tr>\n",
       "      <th>25025000301</th>\n",
       "      <td>0.097828</td>\n",
       "    </tr>\n",
       "    <tr>\n",
       "      <th>25025000302</th>\n",
       "      <td>0.104935</td>\n",
       "    </tr>\n",
       "    <tr>\n",
       "      <th>...</th>\n",
       "      <td>...</td>\n",
       "    </tr>\n",
       "    <tr>\n",
       "      <th>25025981201</th>\n",
       "      <td>0.055558</td>\n",
       "    </tr>\n",
       "    <tr>\n",
       "      <th>25025981202</th>\n",
       "      <td>0.128739</td>\n",
       "    </tr>\n",
       "    <tr>\n",
       "      <th>25025981300</th>\n",
       "      <td>0.723510</td>\n",
       "    </tr>\n",
       "    <tr>\n",
       "      <th>25025981501</th>\n",
       "      <td>0.072456</td>\n",
       "    </tr>\n",
       "    <tr>\n",
       "      <th>25025981700</th>\n",
       "      <td>0.070031</td>\n",
       "    </tr>\n",
       "  </tbody>\n",
       "</table>\n",
       "<p>166 rows × 1 columns</p>\n",
       "</div>"
      ],
      "text/plain": [
       "             ecometric\n",
       "CT_ID_10              \n",
       "25025000100   0.478585\n",
       "25025000201   0.136272\n",
       "25025000202   0.052083\n",
       "25025000301   0.097828\n",
       "25025000302   0.104935\n",
       "...                ...\n",
       "25025981201   0.055558\n",
       "25025981202   0.128739\n",
       "25025981300   0.723510\n",
       "25025981501   0.072456\n",
       "25025981700   0.070031\n",
       "\n",
       "[166 rows x 1 columns]"
      ]
     },
     "execution_count": 15,
     "metadata": {},
     "output_type": "execute_result"
    }
   ],
   "source": [
    "\n",
    "\n",
    "scaled_df['ecometric'] = \\\n",
    "1 * scaled_df['airbnb'] +  1 * scaled_df['places'] + 1 * scaled_df['rest']\n",
    "\n",
    "ecometric_df = scaled_df.filter(['ecometric'], axis=1)\n",
    "ecometric_df"
   ]
  },
  {
   "cell_type": "markdown",
   "metadata": {},
   "source": [
    "## 4. Analysis / Visualizations"
   ]
  },
  {
   "cell_type": "code",
   "execution_count": 16,
   "metadata": {},
   "outputs": [
    {
     "data": {
      "text/plain": [
       "Text(0.5, 1.0, 'TODO')"
      ]
     },
     "execution_count": 16,
     "metadata": {},
     "output_type": "execute_result"
    },
    {
     "data": {
      "image/png": "[encoded data removed]",
      "text/plain": [
       "<Figure size 432x288 with 1 Axes>"
      ]
     },
     "metadata": {
      "needs_background": "light"
     },
     "output_type": "display_data"
    }
   ],
   "source": [
    "# can make some vis with combined_df probably\n",
    "bins = int(ecometric_df.shape[0]/5)\n",
    "ecometric_df_unindexed = ecometric_df.reset_index()\n",
    "plt.hist(ecometric_df_unindexed['ecometric'], bins=bins)\n",
    "plt.xlabel(\"Tourism Index\")\n",
    "plt.ylabel(\"TODO\")\n",
    "plt.title(\"TODO\")\n"
   ]
  },
  {
   "cell_type": "code",
   "execution_count": 20,
   "metadata": {},
   "outputs": [
    {
     "name": "stdout",
     "output_type": "stream",
     "text": [
      "airbnb \n",
      " count     166.000000\n",
      "mean      351.120482\n",
      "std       400.659635\n",
      "min         6.000000\n",
      "25%       117.000000\n",
      "50%       246.000000\n",
      "75%       446.000000\n",
      "max      3573.000000\n",
      "Name: airbnb, dtype: float64\n",
      "places \n",
      " count    166.000000\n",
      "mean       3.114458\n",
      "std        7.477167\n",
      "min        0.000000\n",
      "25%        0.000000\n",
      "50%        1.000000\n",
      "75%        2.000000\n",
      "max       60.000000\n",
      "Name: places, dtype: float64\n",
      "rest \n",
      " count    166.000000\n",
      "mean      16.030120\n",
      "std       29.203243\n",
      "min        1.000000\n",
      "25%        4.000000\n",
      "50%        9.000000\n",
      "75%       16.750000\n",
      "max      259.000000\n",
      "Name: rest, dtype: float64\n"
     ]
    },
    {
     "data": {
      "text/html": [
       "<div>\n",
       "<style scoped>\n",
       "    .dataframe tbody tr th:only-of-type {\n",
       "        vertical-align: middle;\n",
       "    }\n",
       "\n",
       "    .dataframe tbody tr th {\n",
       "        vertical-align: top;\n",
       "    }\n",
       "\n",
       "    .dataframe thead th {\n",
       "        text-align: right;\n",
       "    }\n",
       "</style>\n",
       "<table border=\"1\" class=\"dataframe\">\n",
       "  <thead>\n",
       "    <tr style=\"text-align: right;\">\n",
       "      <th></th>\n",
       "      <th>airbnb</th>\n",
       "      <th>places</th>\n",
       "      <th>rest</th>\n",
       "    </tr>\n",
       "  </thead>\n",
       "  <tbody>\n",
       "    <tr>\n",
       "      <th>airbnb</th>\n",
       "      <td>1.000000</td>\n",
       "      <td>0.481194</td>\n",
       "      <td>0.717340</td>\n",
       "    </tr>\n",
       "    <tr>\n",
       "      <th>places</th>\n",
       "      <td>0.481194</td>\n",
       "      <td>1.000000</td>\n",
       "      <td>0.655762</td>\n",
       "    </tr>\n",
       "    <tr>\n",
       "      <th>rest</th>\n",
       "      <td>0.717340</td>\n",
       "      <td>0.655762</td>\n",
       "      <td>1.000000</td>\n",
       "    </tr>\n",
       "  </tbody>\n",
       "</table>\n",
       "</div>"
      ],
      "text/plain": [
       "          airbnb    places      rest\n",
       "airbnb  1.000000  0.481194  0.717340\n",
       "places  0.481194  1.000000  0.655762\n",
       "rest    0.717340  0.655762  1.000000"
      ]
     },
     "execution_count": 20,
     "metadata": {},
     "output_type": "execute_result"
    }
   ],
   "source": [
    "for col in combined_df.columns:\n",
    "    print(col, '\\n', combined_df[col].describe())\n",
    "combined_df.corr()"
   ]
  },
  {
   "cell_type": "code",
   "execution_count": 21,
   "metadata": {},
   "outputs": [
    {
     "data": {
      "text/html": [
       "<div>\n",
       "<style scoped>\n",
       "    .dataframe tbody tr th:only-of-type {\n",
       "        vertical-align: middle;\n",
       "    }\n",
       "\n",
       "    .dataframe tbody tr th {\n",
       "        vertical-align: top;\n",
       "    }\n",
       "\n",
       "    .dataframe thead th {\n",
       "        text-align: right;\n",
       "    }\n",
       "</style>\n",
       "<table border=\"1\" class=\"dataframe\">\n",
       "  <thead>\n",
       "    <tr style=\"text-align: right;\">\n",
       "      <th></th>\n",
       "      <th>ecometric</th>\n",
       "    </tr>\n",
       "  </thead>\n",
       "  <tbody>\n",
       "    <tr>\n",
       "      <th>count</th>\n",
       "      <td>166.000000</td>\n",
       "    </tr>\n",
       "    <tr>\n",
       "      <th>mean</th>\n",
       "      <td>0.206918</td>\n",
       "    </tr>\n",
       "    <tr>\n",
       "      <th>std</th>\n",
       "      <td>0.301945</td>\n",
       "    </tr>\n",
       "    <tr>\n",
       "      <th>min</th>\n",
       "      <td>0.002523</td>\n",
       "    </tr>\n",
       "    <tr>\n",
       "      <th>25%</th>\n",
       "      <td>0.066160</td>\n",
       "    </tr>\n",
       "    <tr>\n",
       "      <th>50%</th>\n",
       "      <td>0.123692</td>\n",
       "    </tr>\n",
       "    <tr>\n",
       "      <th>75%</th>\n",
       "      <td>0.195918</td>\n",
       "    </tr>\n",
       "    <tr>\n",
       "      <th>max</th>\n",
       "      <td>2.550000</td>\n",
       "    </tr>\n",
       "  </tbody>\n",
       "</table>\n",
       "</div>"
      ],
      "text/plain": [
       "        ecometric\n",
       "count  166.000000\n",
       "mean     0.206918\n",
       "std      0.301945\n",
       "min      0.002523\n",
       "25%      0.066160\n",
       "50%      0.123692\n",
       "75%      0.195918\n",
       "max      2.550000"
      ]
     },
     "execution_count": 21,
     "metadata": {},
     "output_type": "execute_result"
    }
   ],
   "source": [
    "ecometric_df.describe()"
   ]
  },
  {
   "cell_type": "code",
   "execution_count": 18,
   "metadata": {},
   "outputs": [],
   "source": [
    "# descriptive statistics or something about data, statistical tests maybe to see how each each of the three data \n",
    "# compare in their measures of tourism"
   ]
  },
  {
   "cell_type": "markdown",
   "metadata": {},
   "source": [
    "### Questions\n",
    "\n",
    "**What is the phenomenon that you are trying to measure through your newly generated variable? In other words – define your concept.**\n",
    "\n",
    "\n",
    "**How do the variables you included in your measure relate to your concept of interest?**\n",
    "\n",
    "**How did you address missing data? How much of it was there? Why did you choose this strategy?**\n",
    "\n",
    "**What strategy did you choose to aggregate your data from record-level to neighborhood-level information? Why was this the most appropriate strategy for measuring your concept of interest?**\n",
    "\n",
    "**What do the statistics and visualization you produced tell us about the state of disorder/gentrification/tourism/etc. across Boston neighborhoods?**\n",
    "\n",
    "**What types of additional information or variables might have enhanced your ability to represent your chosen phenomenon through data?**"
   ]
  }
 ],
 "metadata": {
  "kernelspec": {
   "display_name": "Python 3",
   "language": "python",
   "name": "python3"
  },
  "language_info": {
   "codemirror_mode": {
    "name": "ipython",
    "version": 3
   },
   "file_extension": ".py",
   "mimetype": "text/x-python",
   "name": "python",
   "nbconvert_exporter": "python",
   "pygments_lexer": "ipython3",
   "version": "3.9.1"
  }
 },
 "nbformat": 4,
 "nbformat_minor": 4
}
